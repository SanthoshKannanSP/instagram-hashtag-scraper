{
 "cells": [
  {
   "cell_type": "markdown",
   "id": "relevant-germany",
   "metadata": {},
   "source": [
    "### Give the input here! "
   ]
  },
  {
   "cell_type": "code",
   "execution_count": 1,
   "id": "criminal-funds",
   "metadata": {},
   "outputs": [],
   "source": [
    "from dotenv import load_dotenv\n",
    "import os\n",
    "\n",
    "load_dotenv()\n",
    "### Instagram Username and Password\n",
    "IG_username = os.getenv(\"username\") ## -- ENTER USERNAME\n",
    "IG_password = os.getenv(\"password\") ## -- ENTER PASSWORD\n",
    "\n",
    "chromedriver_path = os.getenv(\"chromedriver_path\") ## -- UPDATE CHROME DRIVER PATH\n",
    "\n",
    "### Give profile name of user as string ###Give Hashtags with '#' before the string\n",
    "\n",
    "num_posts = int(os.getenv(\"num_posts\"))\n",
    "\n",
    "profiles_hashtags = [\"#food\"]\n",
    "textfile_name = os.getenv(\"textfile\") ## Enter text file name, that saves all image URLs. [Multiple files are created with name format]\n",
    "folder_name = os.getenv(\"folder\") ## Folder Name to save all images - Creates a folder if not available."
   ]
  },
  {
   "cell_type": "markdown",
   "id": "disturbed-blake",
   "metadata": {},
   "source": [
    "### Folder with images, and txt files with image URLs get saved in root path of this file"
   ]
  },
  {
   "cell_type": "code",
   "execution_count": 2,
   "id": "hazardous-budget",
   "metadata": {},
   "outputs": [],
   "source": [
    "#imports here\n",
    "from selenium import webdriver\n",
    "from selenium.webdriver.common.keys import Keys\n",
    "from selenium.webdriver.support import expected_conditions as EC\n",
    "from selenium.webdriver.common.by import By\n",
    "from selenium.webdriver.support.wait import WebDriverWait\n",
    "from selenium.webdriver.common.keys import Keys\n",
    "import time\n",
    "import string\n",
    "import random\n",
    "# import tqdm.notebook as tq\n",
    "import wget\n",
    "import re"
   ]
  },
  {
   "cell_type": "code",
   "execution_count": 3,
   "id": "selected-civilization",
   "metadata": {},
   "outputs": [
    {
     "name": "stderr",
     "output_type": "stream",
     "text": [
      "/tmp/ipykernel_20370/1039144284.py:1: DeprecationWarning: executable_path has been deprecated, please pass in a Service object\n",
      "  driver = webdriver.Chrome(chromedriver_path)\n"
     ]
    }
   ],
   "source": [
    "driver = webdriver.Chrome(chromedriver_path)\n",
    "driver.maximize_window()\n",
    "driver.get(\"http://www.instagram.com\")\n",
    "\n",
    "username = WebDriverWait(driver, 10).until(EC.element_to_be_clickable((By.CSS_SELECTOR, \"input[name='username']\")))\n",
    "password = WebDriverWait(driver, 10).until(EC.element_to_be_clickable((By.CSS_SELECTOR, \"input[name='password']\")))\n",
    "\n",
    "username.clear()\n",
    "username.send_keys(IG_username)\n",
    "time.sleep(5)\n",
    "password.clear()\n",
    "password.send_keys(IG_password)\n",
    "time.sleep(5)\n",
    "\n",
    "button = WebDriverWait(driver, 2).until(EC.element_to_be_clickable((By.CSS_SELECTOR, \"button[type='submit']\"))).click()\n",
    "\n",
    "#Not now and Cancel buttons\n",
    "not_now = WebDriverWait(driver, 10).until(EC.element_to_be_clickable((By.XPATH, '/html/body/div[1]/section/main/div/div/div/div/button'))).click()\n",
    "time.sleep(5)\n",
    "not_now2 = WebDriverWait(driver, 10).until(EC.element_to_be_clickable((By.XPATH, '//button[contains(text(), \"Not Now\")]'))).click()"
   ]
  },
  {
   "cell_type": "markdown",
   "id": "cloudy-clone",
   "metadata": {},
   "source": [
    "### Scrapes image URLs from profiles and Hashtags mentioned, to text files"
   ]
  },
  {
   "cell_type": "code",
   "execution_count": 16,
   "id": "animal-visiting",
   "metadata": {},
   "outputs": [
    {
     "name": "stdout",
     "output_type": "stream",
     "text": [
      "https://www.instagram.com/explore/tags/food\n"
     ]
    },
    {
     "name": "stderr",
     "output_type": "stream",
     "text": [
      "/tmp/ipykernel_33505/2697682312.py:17: DeprecationWarning: find_element_by_xpath is deprecated. Please use find_element(by=By.XPATH, value=xpath) instead\n",
      "  posts = driver.find_element_by_xpath(\"(//span[@class='g47SY '])[1]\")\n",
      "/tmp/ipykernel_33505/2697682312.py:22: DeprecationWarning: find_elements_by_tag_name is deprecated. Please use find_elements(by=By.TAG_NAME, value=name) instead\n",
      "  images = driver.find_elements_by_tag_name('img')\n",
      "/tmp/ipykernel_33505/2697682312.py:29: DeprecationWarning: find_element_by_css_selector is deprecated. Please use find_element(by=By.CSS_SELECTOR, value=css_selector) instead\n",
      "  body = driver.find_element_by_css_selector('body')\n"
     ]
    },
    {
     "name": "stdout",
     "output_type": "stream",
     "text": [
      "Collected 1 image\n",
      "Collected 2 image\n",
      "Collected 3 image\n",
      "Collected 4 image\n",
      "Collected 5 image\n",
      "Collected 6 image\n",
      "Collected 7 image\n",
      "Collected 8 image\n",
      "Collected 9 image\n",
      "Collected 10 image\n",
      "Collected 11 image\n",
      "Collected 12 image\n",
      "Collected 13 image\n",
      "Collected 14 image\n",
      "Collected 15 image\n",
      "Collected 16 image\n",
      "Collected 17 image\n",
      "Collected 18 image\n",
      "Collected 19 image\n",
      "Collected 20 image\n",
      "Completed\n"
     ]
    }
   ],
   "source": [
    "images_all = []\n",
    "counts = 1\n",
    "images_count = 0\n",
    "\n",
    "textfile_path = textfile_name + \".txt\"\n",
    "\n",
    "for k in profiles_hashtags:\n",
    "    if('#' in k):\n",
    "        url = \"https://www.instagram.com/explore/tags/\" + k[1:]\n",
    "    else:\n",
    "        url = \"https://www.instagram.com/\" + k + \"/\"\n",
    "    \n",
    "    print(url)\n",
    "    driver.get(url)\n",
    "    time.sleep(5)\n",
    "    \n",
    "    posts = driver.find_element_by_xpath(\"(//span[@class='g47SY '])[1]\")\n",
    "    # num_posts = int(float(re.sub('\\D', '', posts.text))/8)\n",
    "    \n",
    "    for i in range(num_posts):\n",
    "        try:\n",
    "            images = driver.find_elements_by_tag_name('img')\n",
    "            for image in images: \n",
    "                images_all.append(image.get_attribute('src'))\n",
    "        except Exception as e1:\n",
    "            e1\n",
    "\n",
    "        try:\n",
    "            body = driver.find_element_by_css_selector('body')\n",
    "            body.send_keys(Keys.PAGE_DOWN)\n",
    "            time.sleep(5)\n",
    "        except Exception as e:\n",
    "            e\n",
    "        print(\"Collected %d image\"%(i+1))\n",
    "\n",
    "        # if(images_count>=500):\n",
    "        #     with open(textfile_path, \"a\") as outfile:\n",
    "        #         outfile.write(\"\\n\".join(images_all))\n",
    "        #         outfile.close()\n",
    "        #     images_all = [\" \"]\n",
    "        #     counts += 1\n",
    "        #     textfile_path = textfile_name + str(counts) + \".txt\"\n",
    "        # elif(i >= num_posts):\n",
    "        #     with open(textfile_path, \"a\") as outfile:\n",
    "        #         outfile.write(\"\\n\".join(images_all))\n",
    "        #         outfile.close()\n",
    "        #     images_all = [\" \"]\n",
    "        #     counts += 1\n",
    "        #     textfile_path = textfile_name + str(counts) + \".txt\"\n",
    "    print(\"Completed\")\n",
    "    with open(textfile_path, \"a\") as outfile:\n",
    "        outfile.write(\"\\n\".join(images_all))\n",
    "        outfile.close()\n",
    "\n",
    "\n",
    "driver.close()\n",
    "driver.quit()"
   ]
  },
  {
   "cell_type": "markdown",
   "id": "mounted-chancellor",
   "metadata": {},
   "source": [
    "### Saves images to folder"
   ]
  },
  {
   "cell_type": "code",
   "execution_count": 17,
   "id": "stone-mixture",
   "metadata": {},
   "outputs": [
    {
     "name": "stdout",
     "output_type": "stream",
     "text": [
      "100% [..............................................................................] 75672 / 75672https://instagram.fbdo4-1.fna.fbcdn.net/v/t51.2885-19/44884218_345707102882519_2446069589734326272_n.jpg?efg=eyJybWQiOiJpZ19hbmRyb2lkX21vYmlsZV9uZXR3b3JrX3N0YWNrX3N5c3RlbV90Y3BfZmFsbGJhY2tfd2l0aF9wb3N0XzI6c3lzdGVtX3RjcF9mYWxsYmFjayJ9&_nc_ht=instagram.fbdo4-1.fna.fbcdn.net&_nc_cat=1&_nc_ohc=lpqfWso6P6oAX8Kypjr&edm=AEaYFD0BAAAA&ccb=7-5&ig_cache_key=YW5vbnltb3VzX3Byb2ZpbGVfcGlj.2-ccb7-5&oh=00_AT_GpcWEs4vh-AKnwPUfoCdnPjlWOY6Bq-T-eqXDD_ulJw&oe=6291858F&_nc_sid=751ab8https://instagram.fmaa1-1.fna.fbcdn.net/v/t51.2885-15/282239380_147914184452843_5887182757747535817_n.jpg?stp=dst-webp_e35&cb=9ad74b5e-be52112b&_nc_ht=instagram.fmaa1-1.fna.fbcdn.net&_nc_cat=111&_nc_ohc=QRpK5AMde8kAX-srh01&edm=ABZsPhsBAAAA&ccb=7-5&ig_cache_key=Mjg0Mzc4MjM4NjYwNTU3NjI0Nw%3D%3D.2-ccb7-5&oh=00_AT-6yTLTjstiaWQ8OLH5F4NMuHwaLzLihKOB2jhkNDVDBw&oe=6290AEC8&_nc_sid=4efc9f\n",
      "HTTP Error 403: Forbidden\n",
      "100% [............................................................................] 188294 / 188294\n",
      "Completed\n"
     ]
    }
   ],
   "source": [
    "all_content = []\n",
    "path_folder = os.getcwd()\n",
    "path_folder = os.path.join(path_folder, folder_name)\n",
    "if not os.path.exists(path_folder):\n",
    "    os.mkdir(path_folder)\n",
    "for i in range(1, counts+1):\n",
    "    file_path = textfile_name + str(i) + \".txt\"\n",
    "    if(os.path.exists(file_path)):\n",
    "        my_file = open(file_path, \"r\")\n",
    "        content = my_file.read()\n",
    "        content_list = content.split(\"\\n\")\n",
    "        content_list = list(set(content_list))\n",
    "        all_content.append(content_list)\n",
    "        my_file.close()\n",
    "\n",
    "from itertools import chain\n",
    "flatten_list = list(chain.from_iterable(all_content))\n",
    "flatten_list = list(set(flatten_list))\n",
    "i=1\n",
    "for image in flatten_list:\n",
    "    res = ''.join(random.choices(string.ascii_uppercase + string.digits + string.ascii_lowercase, k = 15))\n",
    "    save_as = os.path.join(path_folder, res + '.jpg')\n",
    "    try:\n",
    "        wget.download(image, save_as)\n",
    "        if(os.path.getsize(save_as) < 10000):\n",
    "            os.remove(save_as)\n",
    "    except Exception as e2:\n",
    "        print(image)\n",
    "        print(e2)\n",
    "print(\"\\nCompleted\")"
   ]
  },
  {
   "cell_type": "code",
   "execution_count": null,
   "id": "incoming-register",
   "metadata": {},
   "outputs": [],
   "source": []
  }
 ],
 "metadata": {
  "interpreter": {
   "hash": "bab5f036b80c3265fe43bcf82cbd336d74f3cdd423f16839c824045f3d362ba2"
  },
  "kernelspec": {
   "display_name": "Python 3.8.2 ('ninsta')",
   "language": "python",
   "name": "python3"
  },
  "language_info": {
   "codemirror_mode": {
    "name": "ipython",
    "version": 3
   },
   "file_extension": ".py",
   "mimetype": "text/x-python",
   "name": "python",
   "nbconvert_exporter": "python",
   "pygments_lexer": "ipython3",
   "version": "3.8.2"
  }
 },
 "nbformat": 4,
 "nbformat_minor": 5
}
